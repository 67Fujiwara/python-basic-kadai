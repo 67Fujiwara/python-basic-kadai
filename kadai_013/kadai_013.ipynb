{
  "nbformat": 4,
  "nbformat_minor": 0,
  "metadata": {
    "colab": {
      "provenance": []
    },
    "kernelspec": {
      "name": "python3",
      "display_name": "Python 3"
    },
    "language_info": {
      "name": "python"
    }
  },
  "cells": [
    {
      "cell_type": "code",
      "execution_count": 39,
      "metadata": {
        "colab": {
          "base_uri": "https://localhost:8080/"
        },
        "id": "j4NeaGLhWjgs",
        "outputId": "c20bf799-0ab0-4be5-bd24-bd9f4d1c73fd"
      },
      "outputs": [
        {
          "output_type": "stream",
          "name": "stdout",
          "text": [
            "税込み220.00000000000003円になります\n"
          ]
        }
      ],
      "source": [
        "def is_purchased(value:int, taxrate:float) -> float:\n",
        "  tax_included = value * ((100 + taxrate) / 100)\n",
        "\n",
        "  return tax_included\n",
        "\n",
        "result = is_purchased(200, 10)\n",
        "print(f\"税込み{result}円になります\")"
      ]
    }
  ]
}