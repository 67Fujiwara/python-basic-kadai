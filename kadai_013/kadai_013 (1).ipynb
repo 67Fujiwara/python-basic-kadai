{
  "nbformat": 4,
  "nbformat_minor": 0,
  "metadata": {
    "colab": {
      "provenance": []
    },
    "kernelspec": {
      "name": "python3",
      "display_name": "Python 3"
    },
    "language_info": {
      "name": "python"
    }
  },
  "cells": [
    {
      "cell_type": "code",
      "execution_count": 21,
      "metadata": {
        "colab": {
          "base_uri": "https://localhost:8080/"
        },
        "id": "j4NeaGLhWjgs",
        "outputId": "391d6a8e-d6ba-4e60-927f-1f0e3c7f0091"
      },
      "outputs": [
        {
          "output_type": "stream",
          "name": "stdout",
          "text": [
            "税込み220円になります\n"
          ]
        }
      ],
      "source": [
        "def is_purchased(value: int, taxrate: int)-> int:\n",
        "  tax_included = value * ((100 + taxrate) / 100)\n",
        "\n",
        "  return int(tax_included)\n",
        "\n",
        "total_value = is_purchased(200, 10)\n",
        "print(f\"税込み{total_value}円になります\")"
      ]
    }
  ]
}