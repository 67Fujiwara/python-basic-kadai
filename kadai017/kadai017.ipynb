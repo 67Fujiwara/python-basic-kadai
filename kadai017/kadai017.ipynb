{
  "nbformat": 4,
  "nbformat_minor": 0,
  "metadata": {
    "colab": {
      "provenance": []
    },
    "kernelspec": {
      "name": "python3",
      "display_name": "Python 3"
    },
    "language_info": {
      "name": "python"
    }
  },
  "cells": [
    {
      "cell_type": "code",
      "execution_count": 1,
      "metadata": {
        "colab": {
          "base_uri": "https://localhost:8080/"
        },
        "id": "P445qFyRas6q",
        "outputId": "d0b3060f-d95f-4424-a8e8-ddf4b89a3754"
      },
      "outputs": [
        {
          "output_type": "stream",
          "name": "stdout",
          "text": [
            "未成年\n",
            "ichiro\n",
            "成人\n",
            "jiro\n",
            "成人\n",
            "saburo\n"
          ]
        }
      ],
      "source": [
        "class Human:\n",
        "  def __init__ (self, name, age):\n",
        "    self.age = age\n",
        "    self.name = name\n",
        "\n",
        "  def check_adult(self):\n",
        "    if self.age > 19:\n",
        "      print(\"成人\")\n",
        "      print(self.name)\n",
        "    else:\n",
        "      print(\"未成年\")\n",
        "      print(self.name)\n",
        "\n",
        "humans = [Human('ichiro', 19), Human('jiro', 20), Human('saburo', 21)]\n",
        "for human in humans:\n",
        "    human.check_adult()"
      ]
    }
  ]
}