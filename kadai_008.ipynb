{
  "nbformat": 4,
  "nbformat_minor": 0,
  "metadata": {
    "colab": {
      "provenance": []
    },
    "kernelspec": {
      "name": "python3",
      "display_name": "Python 3"
    },
    "language_info": {
      "name": "python"
    }
  },
  "cells": [
    {
      "cell_type": "code",
      "execution_count": 15,
      "metadata": {
        "colab": {
          "base_uri": "https://localhost:8080/"
        },
        "id": "FVg6vounmJsy",
        "outputId": "1a629f48-1245-4478-e4db-222fef66348a"
      },
      "outputs": [
        {
          "output_type": "stream",
          "name": "stdout",
          "text": [
            "7\n"
          ]
        }
      ],
      "source": [
        "import random\n",
        "\n",
        "var = random.randint(0,15)\n",
        "\n",
        "if(var % 3 == 0 and var %5 != 0 ):\n",
        "  print(\"Fizz\")\n",
        "elif(var % 5 == 0 and var %3 != 0):\n",
        "  print(\"Buzz\")\n",
        "elif(var %3 == 0 and var %5 == 0):\n",
        "  print(\"FizzBuzz\")\n",
        "else:\n",
        "  print(var)"
      ]
    }
  ]
}