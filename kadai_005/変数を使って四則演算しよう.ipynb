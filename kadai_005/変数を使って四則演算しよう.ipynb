{
  "nbformat": 4,
  "nbformat_minor": 0,
  "metadata": {
    "colab": {
      "provenance": []
    },
    "kernelspec": {
      "name": "python3",
      "display_name": "Python 3"
    },
    "language_info": {
      "name": "python"
    }
  },
  "cells": [
    {
      "cell_type": "code",
      "execution_count": 5,
      "metadata": {
        "colab": {
          "base_uri": "https://localhost:8080/"
        },
        "id": "lbp95n8yUDyW",
        "outputId": "fdb01a45-adb6-46fe-b978-6f89eae57243"
      },
      "outputs": [
        {
          "output_type": "stream",
          "name": "stdout",
          "text": [
            "75.0CM\n"
          ]
        }
      ],
      "source": [
        "#上辺：10cm\n",
        "#下辺：20cm\n",
        "#高さ：5cm\n",
        "#公式：台形の面積 = (上辺＋下辺) * 高さ / 2\n",
        "\n",
        "upper_side = 10\n",
        "lower_side = 20\n",
        "hight_side = 5\n",
        "\n",
        "trapezoid = (upper_side + lower_side) * hight_side / 2\n",
        "print(f\"{trapezoid}CM\")"
      ]
    }
  ]
}